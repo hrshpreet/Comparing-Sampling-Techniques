{
  "nbformat": 4,
  "nbformat_minor": 0,
  "metadata": {
    "colab": {
      "provenance": [],
      "collapsed_sections": [
        "DWS6IrSClgf2",
        "yAb-hZNGlURy",
        "m0VuL1j5lZn0",
        "Y2fLIRmZ0oX5",
        "Tn2E8o590tGv"
      ],
      "toc_visible": true
    },
    "kernelspec": {
      "name": "python3",
      "display_name": "Python 3"
    },
    "language_info": {
      "name": "python"
    }
  },
  "cells": [
    {
      "cell_type": "markdown",
      "source": [
        "# Importing dataset"
      ],
      "metadata": {
        "id": "DWS6IrSClgf2"
      }
    },
    {
      "cell_type": "code",
      "source": [
        "! git clone https://github.com/AnjulaMehto/Sampling_DataSet.git"
      ],
      "metadata": {
        "colab": {
          "base_uri": "https://localhost:8080/"
        },
        "id": "rQHnSm2qI45G",
        "outputId": "7d3a353a-34c5-4717-a2a0-718dfbf0fe2e"
      },
      "execution_count": 22,
      "outputs": [
        {
          "output_type": "stream",
          "name": "stdout",
          "text": [
            "fatal: destination path 'Sampling_DataSet' already exists and is not an empty directory.\n"
          ]
        }
      ]
    },
    {
      "cell_type": "code",
      "source": [
        "!pip install catboost"
      ],
      "metadata": {
        "colab": {
          "base_uri": "https://localhost:8080/"
        },
        "id": "KtJ0489feTcZ",
        "outputId": "7df37ca2-6501-4cd2-eba8-9867c933ddf6"
      },
      "execution_count": 37,
      "outputs": [
        {
          "output_type": "stream",
          "name": "stdout",
          "text": [
            "Collecting catboost\n",
            "  Downloading catboost-1.2.2-cp310-cp310-manylinux2014_x86_64.whl (98.7 MB)\n",
            "\u001b[2K     \u001b[90m━━━━━━━━━━━━━━━━━━━━━━━━━━━━━━━━━━━━━━━━\u001b[0m \u001b[32m98.7/98.7 MB\u001b[0m \u001b[31m2.2 MB/s\u001b[0m eta \u001b[36m0:00:00\u001b[0m\n",
            "\u001b[?25hRequirement already satisfied: graphviz in /usr/local/lib/python3.10/dist-packages (from catboost) (0.20.1)\n",
            "Requirement already satisfied: matplotlib in /usr/local/lib/python3.10/dist-packages (from catboost) (3.6.0)\n",
            "Requirement already satisfied: numpy>=1.16.0 in /usr/local/lib/python3.10/dist-packages (from catboost) (1.23.5)\n",
            "Requirement already satisfied: pandas>=0.24 in /usr/local/lib/python3.10/dist-packages (from catboost) (1.5.3)\n",
            "Requirement already satisfied: scipy in /usr/local/lib/python3.10/dist-packages (from catboost) (1.10.1)\n",
            "Requirement already satisfied: plotly in /usr/local/lib/python3.10/dist-packages (from catboost) (5.15.0)\n",
            "Requirement already satisfied: six in /usr/local/lib/python3.10/dist-packages (from catboost) (1.16.0)\n",
            "Requirement already satisfied: python-dateutil>=2.8.1 in /usr/local/lib/python3.10/dist-packages (from pandas>=0.24->catboost) (2.8.2)\n",
            "Requirement already satisfied: pytz>=2020.1 in /usr/local/lib/python3.10/dist-packages (from pandas>=0.24->catboost) (2023.4)\n",
            "Requirement already satisfied: contourpy>=1.0.1 in /usr/local/lib/python3.10/dist-packages (from matplotlib->catboost) (1.2.0)\n",
            "Requirement already satisfied: cycler>=0.10 in /usr/local/lib/python3.10/dist-packages (from matplotlib->catboost) (0.12.1)\n",
            "Requirement already satisfied: fonttools>=4.22.0 in /usr/local/lib/python3.10/dist-packages (from matplotlib->catboost) (4.47.2)\n",
            "Requirement already satisfied: kiwisolver>=1.0.1 in /usr/local/lib/python3.10/dist-packages (from matplotlib->catboost) (1.4.5)\n",
            "Requirement already satisfied: packaging>=20.0 in /usr/local/lib/python3.10/dist-packages (from matplotlib->catboost) (23.2)\n",
            "Requirement already satisfied: pillow>=6.2.0 in /usr/local/lib/python3.10/dist-packages (from matplotlib->catboost) (9.4.0)\n",
            "Requirement already satisfied: pyparsing>=2.2.1 in /usr/local/lib/python3.10/dist-packages (from matplotlib->catboost) (3.1.1)\n",
            "Requirement already satisfied: tenacity>=6.2.0 in /usr/local/lib/python3.10/dist-packages (from plotly->catboost) (8.2.3)\n",
            "Installing collected packages: catboost\n",
            "Successfully installed catboost-1.2.2\n"
          ]
        }
      ]
    },
    {
      "cell_type": "code",
      "source": [
        "import pandas as pd\n",
        "from pycaret.classification import *\n",
        "\n",
        "# Replace the 'url' variable with the raw URL of your dataset on GitHub\n",
        "url = \"Sampling_DataSet/Creditcard_data.csv\"\n",
        "dataset = pd.read_csv(url)"
      ],
      "metadata": {
        "id": "XPDxfPmShbhD"
      },
      "execution_count": 48,
      "outputs": []
    },
    {
      "cell_type": "code",
      "source": [
        "print(dataset.head())"
      ],
      "metadata": {
        "colab": {
          "base_uri": "https://localhost:8080/"
        },
        "id": "TDravCjtinZQ",
        "outputId": "70e213be-fede-4053-ebcd-af0d0927a822"
      },
      "execution_count": 51,
      "outputs": [
        {
          "output_type": "stream",
          "name": "stdout",
          "text": [
            "   Time        V1        V2        V3        V4        V5        V6        V7  \\\n",
            "0     0 -1.359807 -0.072781  2.536347  1.378155 -0.338321  0.462388  0.239599   \n",
            "1     0  1.191857  0.266151  0.166480  0.448154  0.060018 -0.082361 -0.078803   \n",
            "2     1 -1.358354 -1.340163  1.773209  0.379780 -0.503198  1.800499  0.791461   \n",
            "3     1 -0.966272 -0.185226  1.792993 -0.863291 -0.010309  1.247203  0.237609   \n",
            "4     2 -1.158233  0.877737  1.548718  0.403034 -0.407193  0.095921  0.592941   \n",
            "\n",
            "         V8        V9  ...       V21       V22       V23       V24       V25  \\\n",
            "0  0.098698  0.363787  ... -0.018307  0.277838 -0.110474  0.066928  0.128539   \n",
            "1  0.085102 -0.255425  ... -0.225775 -0.638672  0.101288 -0.339846  0.167170   \n",
            "2  0.247676 -1.514654  ...  0.247998  0.771679  0.909412 -0.689281 -0.327642   \n",
            "3  0.377436 -1.387024  ... -0.108300  0.005274 -0.190321 -1.175575  0.647376   \n",
            "4 -0.270533  0.817739  ... -0.009431  0.798278 -0.137458  0.141267 -0.206010   \n",
            "\n",
            "        V26       V27       V28  Amount  Class  \n",
            "0 -0.189115  0.133558 -0.021053  149.62      0  \n",
            "1  0.125895 -0.008983  0.014724    2.69      1  \n",
            "2 -0.139097 -0.055353 -0.059752  378.66      0  \n",
            "3 -0.221929  0.062723  0.061458  123.50      0  \n",
            "4  0.502292  0.219422  0.215153   69.99      0  \n",
            "\n",
            "[5 rows x 31 columns]\n"
          ]
        }
      ]
    },
    {
      "cell_type": "markdown",
      "source": [
        "# Checking Balance of Dataset"
      ],
      "metadata": {
        "id": "yAb-hZNGlURy"
      }
    },
    {
      "cell_type": "code",
      "source": [
        "import matplotlib.pyplot as plt\n",
        "import pandas as pd\n",
        "\n",
        "class_counts = dataset['Class'].value_counts()\n",
        "plt.bar(class_counts.index, class_counts.values, color=['green', 'blue'])\n",
        "plt.xlabel('Class')\n",
        "plt.ylabel('Count')\n",
        "plt.title('Imbalance of Dataset - Class Distribution')\n",
        "plt.show()"
      ],
      "metadata": {
        "colab": {
          "base_uri": "https://localhost:8080/",
          "height": 0
        },
        "id": "eiuBoA3LjTaQ",
        "outputId": "0e7efb8b-e832-4f08-9ba2-851b77399a7e"
      },
      "execution_count": 56,
      "outputs": [
        {
          "output_type": "display_data",
          "data": {
            "text/plain": [
              "<Figure size 800x550 with 1 Axes>"
            ],
            "image/png": "[encoded data removed]"
          },
          "metadata": {}
        }
      ]
    },
    {
      "cell_type": "code",
      "source": [
        "# Calculating imbalance ratio\n",
        "imbalance_ratio = min(class_counts) / max(class_counts)\n",
        "print(f\"Imbalance Ratio: {imbalance_ratio}\")\n",
        "\n",
        "# Calculating Gini coefficient\n",
        "total_samples = len(df)\n",
        "class_proportions = class_counts / total_samples\n",
        "gini_coefficient = 1 - np.sum(class_proportions**2)\n",
        "print(f'Gini Coefficient: {gini_coefficient}')"
      ],
      "metadata": {
        "colab": {
          "base_uri": "https://localhost:8080/"
        },
        "id": "Y8jBzhlqjfB3",
        "outputId": "e46ae6f6-d7be-4f9c-a6ac-21de6cc566da"
      },
      "execution_count": 59,
      "outputs": [
        {
          "output_type": "stream",
          "name": "stdout",
          "text": [
            "Imbalance Ratio: 0.011795543905635648\n",
            "Gini Coefficient: 0.02304424279846451\n"
          ]
        }
      ]
    },
    {
      "cell_type": "code",
      "source": [],
      "metadata": {
        "id": "M-mkkexCk8tM"
      },
      "execution_count": null,
      "outputs": []
    },
    {
      "cell_type": "markdown",
      "source": [
        "# Balancing the Dataset"
      ],
      "metadata": {
        "id": "m0VuL1j5lZn0"
      }
    },
    {
      "cell_type": "code",
      "source": [
        "! pip install -U imbalanced-learn"
      ],
      "metadata": {
        "colab": {
          "base_uri": "https://localhost:8080/",
          "height": 387
        },
        "id": "Lcda3399lemu",
        "outputId": "a05bf5a4-4a32-487c-e20c-e980f66866a2"
      },
      "execution_count": 60,
      "outputs": [
        {
          "output_type": "stream",
          "name": "stdout",
          "text": [
            "Requirement already satisfied: imbalanced-learn in /usr/local/lib/python3.10/dist-packages (0.10.1)\n",
            "Collecting imbalanced-learn\n",
            "  Downloading imbalanced_learn-0.12.0-py3-none-any.whl (257 kB)\n",
            "\u001b[?25l     \u001b[90m━━━━━━━━━━━━━━━━━━━━━━━━━━━━━━━━━━━━━━━━\u001b[0m \u001b[32m0.0/257.7 kB\u001b[0m \u001b[31m?\u001b[0m eta \u001b[36m-:--:--\u001b[0m\r\u001b[2K     \u001b[90m━━━━━━━━━━━━━━━━━━━━━━━━━━━━━━━━━━━━━━━━\u001b[0m \u001b[32m257.7/257.7 kB\u001b[0m \u001b[31m8.5 MB/s\u001b[0m eta \u001b[36m0:00:00\u001b[0m\n",
            "\u001b[?25hRequirement already satisfied: numpy>=1.17.3 in /usr/local/lib/python3.10/dist-packages (from imbalanced-learn) (1.23.5)\n",
            "Requirement already satisfied: scipy>=1.5.0 in /usr/local/lib/python3.10/dist-packages (from imbalanced-learn) (1.10.1)\n",
            "Requirement already satisfied: scikit-learn>=1.0.2 in /usr/local/lib/python3.10/dist-packages (from imbalanced-learn) (1.2.2)\n",
            "Requirement already satisfied: joblib>=1.1.1 in /usr/local/lib/python3.10/dist-packages (from imbalanced-learn) (1.3.2)\n",
            "Requirement already satisfied: threadpoolctl>=2.0.0 in /usr/local/lib/python3.10/dist-packages (from imbalanced-learn) (3.2.0)\n",
            "Installing collected packages: imbalanced-learn\n",
            "  Attempting uninstall: imbalanced-learn\n",
            "    Found existing installation: imbalanced-learn 0.10.1\n",
            "    Uninstalling imbalanced-learn-0.10.1:\n",
            "      Successfully uninstalled imbalanced-learn-0.10.1\n",
            "Successfully installed imbalanced-learn-0.12.0\n"
          ]
        },
        {
          "output_type": "display_data",
          "data": {
            "application/vnd.colab-display-data+json": {
              "pip_warning": {
                "packages": [
                  "imblearn"
                ]
              }
            }
          },
          "metadata": {}
        }
      ]
    },
    {
      "cell_type": "code",
      "source": [
        "from imblearn.over_sampling import SMOTE\n",
        "from sklearn.model_selection import train_test_split\n",
        "\n",
        "df = dataset\n",
        "\n",
        "# Assuming the target variable is named 'Class'\n",
        "# Replace 'Class' with the actual name of your target variable\n",
        "X = df.drop('Class', axis=1)  # Features\n",
        "y = df['Class']  # Target variable\n",
        "\n",
        "# Split the dataset into training and testing sets\n",
        "X_train, X_test, y_train, y_test = train_test_split(X, y, test_size=0.2, random_state=42)\n",
        "\n",
        "# Use SMOTE to oversample the minority class\n",
        "smote = SMOTE(random_state=42)\n",
        "X_resampled, y_resampled = smote.fit_resample(X_train, y_train)\n",
        "\n",
        "# Plotting the bar graph for the resampled dataset\n",
        "class_counts_resampled = pd.Series(y_resampled).value_counts()\n",
        "plt.bar(class_counts_resampled.index, class_counts_resampled.values, color=['green', 'blue'])\n",
        "plt.xlabel('Class')\n",
        "plt.ylabel('Count')\n",
        "plt.title('Balanced Dataset - Class Distribution After Oversampling')\n",
        "plt.show()"
      ],
      "metadata": {
        "colab": {
          "base_uri": "https://localhost:8080/",
          "height": 524
        },
        "id": "XfapeDVHluju",
        "outputId": "0f3cf618-6bec-446b-c80c-ff7db89013ba"
      },
      "execution_count": 67,
      "outputs": [
        {
          "output_type": "display_data",
          "data": {
            "text/plain": [
              "<Figure size 800x550 with 1 Axes>"
            ],
            "image/png": "[encoded data removed]"
          },
          "metadata": {}
        }
      ]
    },
    {
      "cell_type": "code",
      "source": [
        "balanced_df = pd.DataFrame(X_resampled, columns=X.columns)\n",
        "balanced_df['Class'] = y_resampled"
      ],
      "metadata": {
        "id": "U1FHrycjyn3B"
      },
      "execution_count": 89,
      "outputs": []
    },
    {
      "cell_type": "markdown",
      "source": [
        "# Training the models"
      ],
      "metadata": {
        "id": "Y2fLIRmZ0oX5"
      }
    },
    {
      "cell_type": "code",
      "source": [
        "# 1. Simple Random Sampling\n",
        "\n",
        "# Sample size n = (Z^2 * p * (1-p)/E^2)\n",
        "n_simple_random = int(np.ceil((1.96**2 * 0.5 * (1 - 0.5)) / 0.05**2))\n",
        "class_size = min(len(balanced_df[balanced_df['Class'] == 0]), len(balanced_df[balanced_df['Class'] == 1]))\n",
        "n_simple_random = min(n_simple_random, class_size)\n",
        "\n",
        "sample_simple_random = balanced_df.sample(n=n_simple_random, random_state=42)\n",
        "\n",
        "print(\"Sample Size for Simple Random Sampling:\", sample_simple_random.shape[0])\n",
        "print(sample_simple_random['Class'].value_counts())"
      ],
      "metadata": {
        "colab": {
          "base_uri": "https://localhost:8080/"
        },
        "id": "JnI414udmkpT",
        "outputId": "8ce0b799-72cf-49b3-8e6b-7acd16352838"
      },
      "execution_count": 90,
      "outputs": [
        {
          "output_type": "stream",
          "name": "stdout",
          "text": [
            "Sample Size for Simple Random Sampling: 385\n",
            "0    204\n",
            "1    181\n",
            "Name: Class, dtype: int64\n"
          ]
        }
      ]
    },
    {
      "cell_type": "code",
      "source": [
        "# 2. Stratified Sampling\n",
        "\n",
        "#  Sample size n = (Z**2 * p * (1 - p)) / (E/S)**2)\n",
        "#S is no of strata, S=2 bcz of the two classes, p = Estimated proportion\n",
        "p = 0.5\n",
        "n_stratified = int(np.ceil((1.96**2 * 0.5 * (1 - 0.5)) / (0.05/2)**2))\n",
        "\n",
        "class_size = min(len(balanced_df[balanced_df['Class'] == 0]), len(balanced_df[balanced_df['Class'] == 1]))\n",
        "n_stratified = min(n_stratified, class_size)\n",
        "\n",
        "sample_stratified = pd.DataFrame()\n",
        "for class_label in balanced_df['Class'].unique():\n",
        "    class_samples = balanced_df[balanced_df['Class'] == class_label]\n",
        "    sample_size_per_class = int(np.ceil((len(class_samples) / len(balanced_df)) * n_stratified))\n",
        "    class_sample = class_samples.sample(n=sample_size_per_class, random_state=42)\n",
        "    sample_stratified = pd.concat([sample_stratified, class_sample])\n",
        "\n",
        "print(\"Sample Size for Stratified Sampling:\", sample_stratified.shape[0])\n",
        "print(sample_stratified['Class'].value_counts())"
      ],
      "metadata": {
        "colab": {
          "base_uri": "https://localhost:8080/"
        },
        "id": "1Mg6kGhjzLQS",
        "outputId": "c3a3a05c-2407-4b32-fccb-a1156dda5063"
      },
      "execution_count": 91,
      "outputs": [
        {
          "output_type": "stream",
          "name": "stdout",
          "text": [
            "Sample Size for Stratified Sampling: 610\n",
            "0    305\n",
            "1    305\n",
            "Name: Class, dtype: int64\n"
          ]
        }
      ]
    },
    {
      "cell_type": "code",
      "source": [
        "# 3. Cluster Sampling\n",
        "\n",
        "# Sample size n = (Z**2 * p * (1 - p)) / (E / C)**2\n",
        "#Here, C = avg size of cluster\n",
        "C = 50\n",
        "Z=1.96\n",
        "p=0.5\n",
        "E=0.05\n",
        "n_cluster = int(np.ceil((Z**2 * p * (1 - p)) / (E / C)**2))\n",
        "\n",
        "class_size = min(len(balanced_df[balanced_df['Class'] == 0]), len(balanced_df[balanced_df['Class'] == 1]))\n",
        "n_cluster = min(n_cluster, class_size)\n",
        "\n",
        "sample_cluster = pd.DataFrame()\n",
        "cluster_indices = np.array_split(balanced_df.index, n_cluster)\n",
        "for cluster_index in cluster_indices:\n",
        "    cluster_sample = balanced_df.loc[cluster_index].sample(random_state=42)\n",
        "    sample_cluster = pd.concat([sample_cluster, cluster_sample])\n",
        "\n",
        "print(\"Sample Size for Cluster Sampling:\", sample_cluster.shape[0])\n",
        "print(sample_cluster['Class'].value_counts())"
      ],
      "metadata": {
        "colab": {
          "base_uri": "https://localhost:8080/"
        },
        "id": "50_NkPgozO2w",
        "outputId": "8090d568-a51e-411d-d718-aec9c79be757"
      },
      "execution_count": 92,
      "outputs": [
        {
          "output_type": "stream",
          "name": "stdout",
          "text": [
            "Sample Size for Cluster Sampling: 609\n",
            "1    308\n",
            "0    301\n",
            "Name: Class, dtype: int64\n"
          ]
        }
      ]
    },
    {
      "cell_type": "code",
      "source": [
        "# 4. Systematic Sampling\n",
        "\n",
        "k = len(balanced_df) // 1000\n",
        "n_systematic = len(balanced_df) // k\n",
        "sample_systematic = balanced_df.iloc[::k]\n",
        "\n",
        "print(\"Sample Size for Systematic Sampling:\", sample_systematic.shape[0])\n",
        "print(sample_systematic['Class'].value_counts())"
      ],
      "metadata": {
        "colab": {
          "base_uri": "https://localhost:8080/"
        },
        "id": "DjcPvfqRzRqM",
        "outputId": "6161b123-d465-4f46-c365-37a41e294c2f"
      },
      "execution_count": 93,
      "outputs": [
        {
          "output_type": "stream",
          "name": "stdout",
          "text": [
            "Sample Size for Systematic Sampling: 1218\n",
            "0    609\n",
            "1    609\n",
            "Name: Class, dtype: int64\n"
          ]
        }
      ]
    },
    {
      "cell_type": "code",
      "source": [
        "# 5. Boostrap Sampling\n",
        "import numpy as np\n",
        "from sklearn.utils import resample\n",
        "\n",
        "np.random.seed(50)\n",
        "n_bootstrap = len(balanced_df)\n",
        "sample_bootstrap = resample(balanced_df, replace=True, n_samples=n_bootstrap, random_state=42)\n",
        "print(\"Sample Size for Bootstrap Sampling:\", sample_bootstrap.shape[0])\n",
        "print(sample_bootstrap['Class'].value_counts())"
      ],
      "metadata": {
        "colab": {
          "base_uri": "https://localhost:8080/"
        },
        "id": "lfN07tf0zUqG",
        "outputId": "a7714048-9037-4da7-bd2e-06a1c1e3b673"
      },
      "execution_count": 96,
      "outputs": [
        {
          "output_type": "stream",
          "name": "stdout",
          "text": [
            "Sample Size for Bootstrap Sampling: 1218\n",
            "1    663\n",
            "0    555\n",
            "Name: Class, dtype: int64\n"
          ]
        }
      ]
    },
    {
      "cell_type": "markdown",
      "source": [
        "# Finding Accuracies for each model and each method"
      ],
      "metadata": {
        "id": "Tn2E8o590tGv"
      }
    },
    {
      "cell_type": "code",
      "source": [
        "# Decision Tree Classifier\n",
        "from sklearn.model_selection import train_test_split\n",
        "from sklearn.ensemble import RandomForestClassifier\n",
        "from sklearn.tree import DecisionTreeClassifier\n",
        "from sklearn.svm import SVC\n",
        "from xgboost import XGBClassifier\n",
        "from sklearn.neighbors import KNeighborsClassifier\n",
        "from sklearn.metrics import accuracy_score\n",
        "\n",
        "\n",
        "## Simple Random\n",
        "decision_tree = DecisionTreeClassifier(random_state=42)\n",
        "X_simple_random = sample_simple_random.drop(columns=['Class'])\n",
        "y_simple_random = sample_simple_random['Class']\n",
        "X_train, X_test, y_train, y_test = train_test_split(X_simple_random, y_simple_random, test_size=0.4, random_state=42)\n",
        "decision_tree.fit(X_train, y_train)\n",
        "y_pred_test_simplerandom = decision_tree.predict(X_test)\n",
        "accuracy_simple_random_test = accuracy_score(y_test, y_pred_test_simplerandom)\n",
        "print(\"Accuracy for Simple Random Sampling with Decision Tree:\", accuracy_simple_random_test)\n",
        "\n",
        "## Stratified Sampling\n",
        "decision_tree = DecisionTreeClassifier(random_state=42)\n",
        "X_stratified = sample_stratified.drop(columns=['Class'])\n",
        "y_stratified = sample_stratified['Class']\n",
        "X_train, X_test, y_train, y_test = train_test_split(X_stratified, y_stratified, test_size=0.4, random_state=42)\n",
        "decision_tree.fit(X_train, y_train)\n",
        "y_pred_test_stratified = decision_tree.predict(X_test)\n",
        "accuracy_stratified_test = accuracy_score(y_test, y_pred_test_stratified)\n",
        "print(\"Accuracy for Stratified Sampling with Decision Tree:\", accuracy_stratified_test)\n",
        "\n",
        "## Boostrap Sampling\n",
        "decision_tree = DecisionTreeClassifier(random_state=42)\n",
        "X_bootstrap = sample_bootstrap.drop(columns=['Class'])\n",
        "y_bootstrap = sample_bootstrap['Class']\n",
        "X_train, X_test, y_train, y_test = train_test_split(X_bootstrap, y_bootstrap, test_size=0.4, random_state=42)\n",
        "decision_tree.fit(X_train, y_train)\n",
        "y_pred_test_bootstrap = decision_tree.predict(X_test)\n",
        "accuracy_bootstrap_test = accuracy_score(y_test, y_pred_test_bootstrap)\n",
        "print(\"Accuracy for Bootstrap Sampling with Decision Tree:\", accuracy_bootstrap_test)\n",
        "\n",
        "## Systematic Sampling\n",
        "decision_tree = DecisionTreeClassifier(random_state=42)\n",
        "X_systematic = sample_systematic.drop(columns=['Class'])\n",
        "y_systematic = sample_systematic['Class']\n",
        "X_train, X_test, y_train, y_test = train_test_split(X_systematic, y_systematic, test_size=0.4, random_state=42)\n",
        "decision_tree.fit(X_train, y_train)\n",
        "y_pred_test_systematic = decision_tree.predict(X_test)\n",
        "accuracy_systematic_test = accuracy_score(y_test, y_pred_test_systematic)\n",
        "print(\"Accuracy for Systematic Sampling with Decision Tree:\", accuracy_systematic_test)\n",
        "\n",
        "## Cluster Sampling\n",
        "decision_tree = DecisionTreeClassifier(random_state=42)\n",
        "X_cluster = sample_cluster.drop(columns=['Class'])\n",
        "y_cluster = sample_cluster['Class']\n",
        "X_train, X_test, y_train, y_test = train_test_split(X_cluster, y_cluster, test_size=0.4, random_state=42)\n",
        "decision_tree.fit(X_train, y_train)\n",
        "y_pred_test_cluster = decision_tree.predict(X_test)\n",
        "accuracy_cluster_test = accuracy_score(y_test, y_pred_test_cluster)\n",
        "print(\"Accuracy for Cluster Sampling with Decision Tree:\", accuracy_cluster_test)\n",
        "\n",
        "model1 = [accuracy_simple_random_test * 100, accuracy_stratified_test * 100, accuracy_bootstrap_test * 100, accuracy_systematic_test * 100, accuracy_cluster_test * 100]\n"
      ],
      "metadata": {
        "colab": {
          "base_uri": "https://localhost:8080/"
        },
        "id": "9GW_6Qs5zgsE",
        "outputId": "355e4c82-2279-49b4-eef0-82b7aaa91530"
      },
      "execution_count": 97,
      "outputs": [
        {
          "output_type": "stream",
          "name": "stdout",
          "text": [
            "Accuracy for Simple Random Sampling with Decision Tree: 0.9090909090909091\n",
            "Accuracy for Stratified Sampling with Decision Tree: 0.930327868852459\n",
            "Accuracy for Bootstrap Sampling with Decision Tree: 0.9795081967213115\n",
            "Accuracy for Systematic Sampling with Decision Tree: 0.9508196721311475\n",
            "Accuracy for Cluster Sampling with Decision Tree: 0.9508196721311475\n"
          ]
        }
      ]
    },
    {
      "cell_type": "code",
      "source": [
        "# Random Forest Classifier\n",
        "\n",
        "## Simple Random\n",
        "random_forest = RandomForestClassifier(random_state=42)\n",
        "X_simple_random = sample_simple_random.drop(columns=['Class'])\n",
        "y_simple_random = sample_simple_random['Class']\n",
        "X_train, X_test, y_train, y_test = train_test_split(X_simple_random, y_simple_random, test_size=0.4, random_state=42)\n",
        "random_forest.fit(X_train, y_train)\n",
        "y_pred_test_simplerandom = random_forest.predict(X_test)\n",
        "accuracy_simple_random_test = accuracy_score(y_test, y_pred_test_simplerandom)\n",
        "print(\"Accuracy for Simple Random Sampling with Random Forest:\", accuracy_simple_random_test)\n",
        "\n",
        "## Stratified Sampling\n",
        "random_forest = RandomForestClassifier(random_state=42)\n",
        "X_stratified = sample_stratified.drop(columns=['Class'])\n",
        "y_stratified = sample_stratified['Class']\n",
        "X_train, X_test, y_train, y_test = train_test_split(X_stratified, y_stratified, test_size=0.4, random_state=42)\n",
        "random_forest.fit(X_train, y_train)\n",
        "y_pred_test_stratified = random_forest.predict(X_test)\n",
        "accuracy_stratified_test = accuracy_score(y_test, y_pred_test_stratified)\n",
        "print(\"Accuracy for Stratified Sampling with Random Forest:\", accuracy_stratified_test)\n",
        "\n",
        "## Boostrap Sampling\n",
        "random_forest = RandomForestClassifier(random_state=42)\n",
        "X_bootstrap = sample_bootstrap.drop(columns=['Class'])\n",
        "y_bootstrap = sample_bootstrap['Class']\n",
        "X_train, X_test, y_train, y_test = train_test_split(X_bootstrap, y_bootstrap, test_size=0.4, random_state=42)\n",
        "random_forest.fit(X_train, y_train)\n",
        "y_pred_test_bootstrap = random_forest.predict(X_test)\n",
        "accuracy_bootstrap_test = accuracy_score(y_test, y_pred_test_bootstrap)\n",
        "print(\"Accuracy for Bootstrap Sampling with Random Forest:\", accuracy_bootstrap_test)\n",
        "\n",
        "## Systematic Sampling\n",
        "random_forest = RandomForestClassifier(random_state=42)\n",
        "X_systematic = sample_systematic.drop(columns=['Class'])\n",
        "y_systematic = sample_systematic['Class']\n",
        "X_train, X_test, y_train, y_test = train_test_split(X_systematic, y_systematic, test_size=0.4, random_state=42)\n",
        "random_forest.fit(X_train, y_train)\n",
        "y_pred_test_systematic = random_forest.predict(X_test)\n",
        "accuracy_systematic_test = accuracy_score(y_test, y_pred_test_systematic)\n",
        "print(\"Accuracy for Systematic Sampling with Random Forest:\", accuracy_systematic_test)\n",
        "\n",
        "## Cluster Sampling\n",
        "random_forest = RandomForestClassifier(random_state=42)\n",
        "X_cluster = sample_cluster.drop(columns=['Class'])\n",
        "y_cluster = sample_cluster['Class']\n",
        "X_train, X_test, y_train, y_test = train_test_split(X_cluster, y_cluster, test_size=0.4, random_state=42)\n",
        "random_forest.fit(X_train, y_train)\n",
        "y_pred_test_cluster = random_forest.predict(X_test)\n",
        "accuracy_cluster_test = accuracy_score(y_test, y_pred_test_cluster)\n",
        "print(\"Accuracy for Cluster Sampling with Random Forest:\", accuracy_cluster_test)\n",
        "\n",
        "model2 = [accuracy_simple_random_test * 100, accuracy_stratified_test * 100, accuracy_bootstrap_test * 100, accuracy_systematic_test * 100, accuracy_cluster_test * 100]\n",
        ""
      ],
      "metadata": {
        "colab": {
          "base_uri": "https://localhost:8080/"
        },
        "id": "jzfq0frGz3Bd",
        "outputId": "a72a9153-e41a-4e14-a689-b2580cf33944"
      },
      "execution_count": 98,
      "outputs": [
        {
          "output_type": "stream",
          "name": "stdout",
          "text": [
            "Accuracy for Simple Random Sampling with Random Forest: 0.9935064935064936\n",
            "Accuracy for Stratified Sampling with Random Forest: 0.9836065573770492\n",
            "Accuracy for Bootstrap Sampling with Random Forest: 1.0\n",
            "Accuracy for Systematic Sampling with Random Forest: 0.9979508196721312\n",
            "Accuracy for Cluster Sampling with Random Forest: 0.9959016393442623\n"
          ]
        }
      ]
    },
    {
      "cell_type": "code",
      "source": [
        "# SVM\n",
        "svm=SVC(kernel='linear')\n",
        "## Simple Random\n",
        "X_simple_random = sample_simple_random.drop(columns=['Class'])\n",
        "y_simple_random = sample_simple_random['Class']\n",
        "X_train, X_test, y_train, y_test = train_test_split(X_simple_random, y_simple_random, test_size=0.4, random_state=42)\n",
        "svm.fit(X_train, y_train)\n",
        "y_pred_test_simplerandom = svm.predict(X_test)\n",
        "accuracy_simple_random_test = accuracy_score(y_test, y_pred_test_simplerandom)\n",
        "print(\"Accuracy for Simple Random Sampling with SVM:\", accuracy_simple_random_test)\n",
        "\n",
        "## Stratified Sampling\n",
        "X_stratified = sample_stratified.drop(columns=['Class'])\n",
        "y_stratified = sample_stratified['Class']\n",
        "X_train, X_test, y_train, y_test = train_test_split(X_stratified, y_stratified, test_size=0.4, random_state=42)\n",
        "svm.fit(X_train, y_train)\n",
        "y_pred_test_stratified = svm.predict(X_test)\n",
        "accuracy_stratified_test = accuracy_score(y_test, y_pred_test_stratified)\n",
        "print(\"Accuracy for Stratified Sampling with SVM:\", accuracy_stratified_test)\n",
        "\n",
        "## Boostrap Sampling\n",
        "X_bootstrap = sample_bootstrap.drop(columns=['Class'])\n",
        "y_bootstrap = sample_bootstrap['Class']\n",
        "X_train, X_test, y_train, y_test = train_test_split(X_bootstrap, y_bootstrap, test_size=0.4, random_state=42)\n",
        "svm.fit(X_train, y_train)\n",
        "y_pred_test_bootstrap = svm.predict(X_test)\n",
        "accuracy_bootstrap_test = accuracy_score(y_test, y_pred_test_bootstrap)\n",
        "print(\"Accuracy for Bootstrap Sampling with SVM:\", accuracy_bootstrap_test)\n",
        "\n",
        "## Systematic Sampling\n",
        "X_systematic = sample_systematic.drop(columns=['Class'])\n",
        "y_systematic = sample_systematic['Class']\n",
        "X_train, X_test, y_train, y_test = train_test_split(X_systematic, y_systematic, test_size=0.4, random_state=42)\n",
        "svm.fit(X_train, y_train)\n",
        "y_pred_test_systematic = svm.predict(X_test)\n",
        "accuracy_systematic_test = accuracy_score(y_test, y_pred_test_systematic)\n",
        "print(\"Accuracy for Systematic Sampling with SVM:\", accuracy_systematic_test)\n",
        "\n",
        "## Cluster Sampling\n",
        "X_cluster = sample_cluster.drop(columns=['Class'])\n",
        "y_cluster = sample_cluster['Class']\n",
        "X_train, X_test, y_train, y_test = train_test_split(X_cluster, y_cluster, test_size=0.4, random_state=42)\n",
        "svm.fit(X_train, y_train)\n",
        "y_pred_test_cluster = svm.predict(X_test)\n",
        "accuracy_cluster_test = accuracy_score(y_test, y_pred_test_cluster)\n",
        "print(\"Accuracy for Cluster Sampling with SVM:\", accuracy_cluster_test)\n",
        "\n",
        "model3 = [accuracy_simple_random_test * 100, accuracy_stratified_test * 100, accuracy_bootstrap_test * 100, accuracy_systematic_test * 100, accuracy_cluster_test * 100]\n",
        ""
      ],
      "metadata": {
        "colab": {
          "base_uri": "https://localhost:8080/"
        },
        "id": "JQiTndYa0FPD",
        "outputId": "15792662-655c-489a-aabd-4f0f4a6a337b"
      },
      "execution_count": 99,
      "outputs": [
        {
          "output_type": "stream",
          "name": "stdout",
          "text": [
            "Accuracy for Simple Random Sampling with SVM: 0.8636363636363636\n",
            "Accuracy for Stratified Sampling with SVM: 0.9221311475409836\n",
            "Accuracy for Bootstrap Sampling with SVM: 0.9487704918032787\n",
            "Accuracy for Systematic Sampling with SVM: 0.9262295081967213\n",
            "Accuracy for Cluster Sampling with SVM: 0.8852459016393442\n"
          ]
        }
      ]
    },
    {
      "cell_type": "code",
      "source": [
        "# K- Nearest Neighbour\n",
        "knn=KNeighborsClassifier(n_neighbors=5)\n",
        "## Simple Random\n",
        "X_simple_random = sample_simple_random.drop(columns=['Class'])\n",
        "y_simple_random = sample_simple_random['Class']\n",
        "X_train, X_test, y_train, y_test = train_test_split(X_simple_random, y_simple_random, test_size=0.4, random_state=42)\n",
        "knn.fit(X_train, y_train)\n",
        "y_pred_test_simplerandom = knn.predict(X_test)\n",
        "accuracy_simple_random_test = accuracy_score(y_test, y_pred_test_simplerandom)\n",
        "print(\"Accuracy for Simple Random Sampling with K- Nearest Neighbour:\", accuracy_simple_random_test)\n",
        "\n",
        "## Stratified Sampling\n",
        "X_stratified = sample_stratified.drop(columns=['Class'])\n",
        "y_stratified = sample_stratified['Class']\n",
        "X_train, X_test, y_train, y_test = train_test_split(X_stratified, y_stratified, test_size=0.4, random_state=42)\n",
        "knn.fit(X_train, y_train)\n",
        "y_pred_test_stratified = knn.predict(X_test)\n",
        "accuracy_stratified_test = accuracy_score(y_test, y_pred_test_stratified)\n",
        "print(\"Accuracy for Stratified Sampling with K- Nearest Neighbour:\", accuracy_stratified_test)\n",
        "\n",
        "## Boostrap Sampling\n",
        "X_bootstrap = sample_bootstrap.drop(columns=['Class'])\n",
        "y_bootstrap = sample_bootstrap['Class']\n",
        "X_train, X_test, y_train, y_test = train_test_split(X_bootstrap, y_bootstrap, test_size=0.4, random_state=42)\n",
        "knn.fit(X_train, y_train)\n",
        "y_pred_test_bootstrap = knn.predict(X_test)\n",
        "accuracy_bootstrap_test = accuracy_score(y_test, y_pred_test_bootstrap)\n",
        "print(\"Accuracy for Bootstrap Sampling with K- Nearest Neighbour:\", accuracy_bootstrap_test)\n",
        "\n",
        "## Systematic Sampling\n",
        "X_systematic = sample_systematic.drop(columns=['Class'])\n",
        "y_systematic = sample_systematic['Class']\n",
        "X_train, X_test, y_train, y_test = train_test_split(X_systematic, y_systematic, test_size=0.4, random_state=42)\n",
        "knn.fit(X_train, y_train)\n",
        "y_pred_test_systematic = knn.predict(X_test)\n",
        "accuracy_systematic_test = accuracy_score(y_test, y_pred_test_systematic)\n",
        "print(\"Accuracy for Systematic Sampling with K- Nearest Neighbour:\", accuracy_systematic_test)\n",
        "\n",
        "## Cluster Sampling\n",
        "X_cluster = sample_cluster.drop(columns=['Class'])\n",
        "y_cluster = sample_cluster['Class']\n",
        "X_train, X_test, y_train, y_test = train_test_split(X_cluster, y_cluster, test_size=0.4, random_state=42)\n",
        "knn.fit(X_train, y_train)\n",
        "y_pred_test_cluster = knn.predict(X_test)\n",
        "accuracy_cluster_test = accuracy_score(y_test, y_pred_test_cluster)\n",
        "print(\"Accuracy for Cluster Sampling with K- Nearest Neighbour:\", accuracy_cluster_test)\n",
        "\n",
        "model4 = [accuracy_simple_random_test * 100, accuracy_stratified_test * 100, accuracy_bootstrap_test * 100, accuracy_systematic_test * 100, accuracy_cluster_test * 100]\n",
        ""
      ],
      "metadata": {
        "colab": {
          "base_uri": "https://localhost:8080/"
        },
        "id": "nquf5mva0TBS",
        "outputId": "5694e8ca-fada-48f8-cd3e-5fb888499201"
      },
      "execution_count": 100,
      "outputs": [
        {
          "output_type": "stream",
          "name": "stdout",
          "text": [
            "Accuracy for Simple Random Sampling with K- Nearest Neighbour: 0.7142857142857143\n",
            "Accuracy for Stratified Sampling with K- Nearest Neighbour: 0.7418032786885246\n",
            "Accuracy for Bootstrap Sampling with K- Nearest Neighbour: 0.8565573770491803\n",
            "Accuracy for Systematic Sampling with K- Nearest Neighbour: 0.7868852459016393\n",
            "Accuracy for Cluster Sampling with K- Nearest Neighbour: 0.7131147540983607\n"
          ]
        }
      ]
    },
    {
      "cell_type": "code",
      "source": [
        "# XGBoost Classifier\n",
        "xgb=XGBClassifier()\n",
        "## Simple Random\n",
        "X_simple_random = sample_simple_random.drop(columns=['Class'])\n",
        "y_simple_random = sample_simple_random['Class']\n",
        "X_train, X_test, y_train, y_test = train_test_split(X_simple_random, y_simple_random, test_size=0.4, random_state=42)\n",
        "xgb.fit(X_train, y_train)\n",
        "y_pred_test_simplerandom = xgb.predict(X_test)\n",
        "accuracy_simple_random_test = accuracy_score(y_test, y_pred_test_simplerandom)\n",
        "print(\"Accuracy for Simple Random Sampling with XGBoost:\", accuracy_simple_random_test)\n",
        "\n",
        "## Stratified Sampling\n",
        "X_stratified = sample_stratified.drop(columns=['Class'])\n",
        "y_stratified = sample_stratified['Class']\n",
        "X_train, X_test, y_train, y_test = train_test_split(X_stratified, y_stratified, test_size=0.4, random_state=42)\n",
        "xgb.fit(X_train, y_train)\n",
        "y_pred_test_stratified = xgb.predict(X_test)\n",
        "accuracy_stratified_test = accuracy_score(y_test, y_pred_test_stratified)\n",
        "print(\"Accuracy for Stratified Sampling with XGBoost:\", accuracy_stratified_test)\n",
        "\n",
        "## Boostrap Sampling\n",
        "X_bootstrap = sample_bootstrap.drop(columns=['Class'])\n",
        "y_bootstrap = sample_bootstrap['Class']\n",
        "X_train, X_test, y_train, y_test = train_test_split(X_bootstrap, y_bootstrap, test_size=0.4, random_state=42)\n",
        "xgb.fit(X_train, y_train)\n",
        "y_pred_test_bootstrap = xgb.predict(X_test)\n",
        "accuracy_bootstrap_test = accuracy_score(y_test, y_pred_test_bootstrap)\n",
        "print(\"Accuracy for Bootstrap Sampling with XGBoost:\", accuracy_bootstrap_test)\n",
        "\n",
        "## Systematic Sampling\n",
        "X_systematic = sample_systematic.drop(columns=['Class'])\n",
        "y_systematic = sample_systematic['Class']\n",
        "X_train, X_test, y_train, y_test = train_test_split(X_systematic, y_systematic, test_size=0.4, random_state=42)\n",
        "xgb.fit(X_train, y_train)\n",
        "y_pred_test_systematic = xgb.predict(X_test)\n",
        "accuracy_systematic_test = accuracy_score(y_test, y_pred_test_systematic)\n",
        "print(\"Accuracy for Systematic Sampling with XGBoost:\", accuracy_systematic_test)\n",
        "\n",
        "## Cluster Sampling\n",
        "X_cluster = sample_cluster.drop(columns=['Class'])\n",
        "y_cluster = sample_cluster['Class']\n",
        "X_train, X_test, y_train, y_test = train_test_split(X_cluster, y_cluster, test_size=0.4, random_state=42)\n",
        "xgb.fit(X_train, y_train)\n",
        "y_pred_test_cluster = xgb.predict(X_test)\n",
        "accuracy_cluster_test = accuracy_score(y_test, y_pred_test_cluster)\n",
        "print(\"Accuracy for Cluster Sampling with XGBoost:\", accuracy_cluster_test)\n",
        "\n",
        "model5 = [accuracy_simple_random_test * 100, accuracy_stratified_test * 100, accuracy_bootstrap_test * 100, accuracy_systematic_test * 100, accuracy_cluster_test * 100]\n",
        ""
      ],
      "metadata": {
        "colab": {
          "base_uri": "https://localhost:8080/"
        },
        "id": "XasLoGnk0dzX",
        "outputId": "f7661168-7815-4bd9-b5e9-496eda1e98eb"
      },
      "execution_count": 101,
      "outputs": [
        {
          "output_type": "stream",
          "name": "stdout",
          "text": [
            "Accuracy for Simple Random Sampling with XGBoost: 0.9805194805194806\n",
            "Accuracy for Stratified Sampling with XGBoost: 0.9754098360655737\n",
            "Accuracy for Bootstrap Sampling with XGBoost: 0.9918032786885246\n",
            "Accuracy for Systematic Sampling with XGBoost: 0.9897540983606558\n",
            "Accuracy for Cluster Sampling with XGBoost: 0.9754098360655737\n"
          ]
        }
      ]
    },
    {
      "cell_type": "markdown",
      "source": [
        "# Results"
      ],
      "metadata": {
        "id": "1zDYW0300jLk"
      }
    },
    {
      "cell_type": "code",
      "source": [
        "models = [\"Decision Tree\",\"Random Forest\",\"SVM\",\"KNN\",\"XGBoost\"]\n",
        "\n",
        "\n",
        "Sampling=[\"Simple Random Sampling\", \"Stratified Sampling\", \"Bootstrap Sampling\", \"Systematic Sampling\", \"Cluster Sampling\"]\n",
        "\n",
        "\n",
        "final_table = pd.DataFrame()\n",
        "final_table['Sampling Technique -> // Model ↓'] = models\n",
        "final_table['Decision Tree'] = model1\n",
        "final_table['Random Forest'] = model2\n",
        "final_table['SVM'] = model3\n",
        "final_table['KNN'] = model4\n",
        "final_table['XGBoost'] = model5\n",
        "final_table.transpose()"
      ],
      "metadata": {
        "colab": {
          "base_uri": "https://localhost:8080/",
          "height": 237
        },
        "id": "mmKtDLtp0hnG",
        "outputId": "2aed49e5-59d1-4227-db8f-35a6f07dc2e4"
      },
      "execution_count": 102,
      "outputs": [
        {
          "output_type": "execute_result",
          "data": {
            "text/plain": [
              "                                              0              1          2  \\\n",
              "Sampling Technique -> // Model ↓  Decision Tree  Random Forest        SVM   \n",
              "Decision Tree                         90.909091      93.032787   97.95082   \n",
              "Random Forest                         99.350649      98.360656      100.0   \n",
              "SVM                                   86.363636      92.213115  94.877049   \n",
              "KNN                                   71.428571      74.180328  85.655738   \n",
              "XGBoost                               98.051948      97.540984  99.180328   \n",
              "\n",
              "                                          3          4  \n",
              "Sampling Technique -> // Model ↓        KNN    XGBoost  \n",
              "Decision Tree                     95.081967  95.081967  \n",
              "Random Forest                     99.795082  99.590164  \n",
              "SVM                               92.622951   88.52459  \n",
              "KNN                               78.688525  71.311475  \n",
              "XGBoost                            98.97541  97.540984  "
            ],
            "text/html": [
              "\n",
              "  <div id=\"df-58fdcf72-0f02-4a10-bccc-de9b821b26bc\" class=\"colab-df-container\">\n",
              "    <div>\n",
              "<style scoped>\n",
              "    .dataframe tbody tr th:only-of-type {\n",
              "        vertical-align: middle;\n",
              "    }\n",
              "\n",
              "    .dataframe tbody tr th {\n",
              "        vertical-align: top;\n",
              "    }\n",
              "\n",
              "    .dataframe thead th {\n",
              "        text-align: right;\n",
              "    }\n",
              "</style>\n",
              "<table border=\"1\" class=\"dataframe\">\n",
              "  <thead>\n",
              "    <tr style=\"text-align: right;\">\n",
              "      <th></th>\n",
              "      <th>0</th>\n",
              "      <th>1</th>\n",
              "      <th>2</th>\n",
              "      <th>3</th>\n",
              "      <th>4</th>\n",
              "    </tr>\n",
              "  </thead>\n",
              "  <tbody>\n",
              "    <tr>\n",
              "      <th>Sampling Technique -&gt; // Model ↓</th>\n",
              "      <td>Decision Tree</td>\n",
              "      <td>Random Forest</td>\n",
              "      <td>SVM</td>\n",
              "      <td>KNN</td>\n",
              "      <td>XGBoost</td>\n",
              "    </tr>\n",
              "    <tr>\n",
              "      <th>Decision Tree</th>\n",
              "      <td>90.909091</td>\n",
              "      <td>93.032787</td>\n",
              "      <td>97.95082</td>\n",
              "      <td>95.081967</td>\n",
              "      <td>95.081967</td>\n",
              "    </tr>\n",
              "    <tr>\n",
              "      <th>Random Forest</th>\n",
              "      <td>99.350649</td>\n",
              "      <td>98.360656</td>\n",
              "      <td>100.0</td>\n",
              "      <td>99.795082</td>\n",
              "      <td>99.590164</td>\n",
              "    </tr>\n",
              "    <tr>\n",
              "      <th>SVM</th>\n",
              "      <td>86.363636</td>\n",
              "      <td>92.213115</td>\n",
              "      <td>94.877049</td>\n",
              "      <td>92.622951</td>\n",
              "      <td>88.52459</td>\n",
              "    </tr>\n",
              "    <tr>\n",
              "      <th>KNN</th>\n",
              "      <td>71.428571</td>\n",
              "      <td>74.180328</td>\n",
              "      <td>85.655738</td>\n",
              "      <td>78.688525</td>\n",
              "      <td>71.311475</td>\n",
              "    </tr>\n",
              "    <tr>\n",
              "      <th>XGBoost</th>\n",
              "      <td>98.051948</td>\n",
              "      <td>97.540984</td>\n",
              "      <td>99.180328</td>\n",
              "      <td>98.97541</td>\n",
              "      <td>97.540984</td>\n",
              "    </tr>\n",
              "  </tbody>\n",
              "</table>\n",
              "</div>\n",
              "    <div class=\"colab-df-buttons\">\n",
              "\n",
              "  <div class=\"colab-df-container\">\n",
              "    <button class=\"colab-df-convert\" onclick=\"convertToInteractive('df-58fdcf72-0f02-4a10-bccc-de9b821b26bc')\"\n",
              "            title=\"Convert this dataframe to an interactive table.\"\n",
              "            style=\"display:none;\">\n",
              "\n",
              "  <svg xmlns=\"http://www.w3.org/2000/svg\" height=\"24px\" viewBox=\"0 -960 960 960\">\n",
              "    <path d=\"M120-120v-720h720v720H120Zm60-500h600v-160H180v160Zm220 220h160v-160H400v160Zm0 220h160v-160H400v160ZM180-400h160v-160H180v160Zm440 0h160v-160H620v160ZM180-180h160v-160H180v160Zm440 0h160v-160H620v160Z\"/>\n",
              "  </svg>\n",
              "    </button>\n",
              "\n",
              "  <style>\n",
              "    .colab-df-container {\n",
              "      display:flex;\n",
              "      gap: 12px;\n",
              "    }\n",
              "\n",
              "    .colab-df-convert {\n",
              "      background-color: #E8F0FE;\n",
              "      border: none;\n",
              "      border-radius: 50%;\n",
              "      cursor: pointer;\n",
              "      display: none;\n",
              "      fill: #1967D2;\n",
              "      height: 32px;\n",
              "      padding: 0 0 0 0;\n",
              "      width: 32px;\n",
              "    }\n",
              "\n",
              "    .colab-df-convert:hover {\n",
              "      background-color: #E2EBFA;\n",
              "      box-shadow: 0px 1px 2px rgba(60, 64, 67, 0.3), 0px 1px 3px 1px rgba(60, 64, 67, 0.15);\n",
              "      fill: #174EA6;\n",
              "    }\n",
              "\n",
              "    .colab-df-buttons div {\n",
              "      margin-bottom: 4px;\n",
              "    }\n",
              "\n",
              "    [theme=dark] .colab-df-convert {\n",
              "      background-color: #3B4455;\n",
              "      fill: #D2E3FC;\n",
              "    }\n",
              "\n",
              "    [theme=dark] .colab-df-convert:hover {\n",
              "      background-color: #434B5C;\n",
              "      box-shadow: 0px 1px 3px 1px rgba(0, 0, 0, 0.15);\n",
              "      filter: drop-shadow(0px 1px 2px rgba(0, 0, 0, 0.3));\n",
              "      fill: #FFFFFF;\n",
              "    }\n",
              "  </style>\n",
              "\n",
              "    <script>\n",
              "      const buttonEl =\n",
              "        document.querySelector('#df-58fdcf72-0f02-4a10-bccc-de9b821b26bc button.colab-df-convert');\n",
              "      buttonEl.style.display =\n",
              "        google.colab.kernel.accessAllowed ? 'block' : 'none';\n",
              "\n",
              "      async function convertToInteractive(key) {\n",
              "        const element = document.querySelector('#df-58fdcf72-0f02-4a10-bccc-de9b821b26bc');\n",
              "        const dataTable =\n",
              "          await google.colab.kernel.invokeFunction('convertToInteractive',\n",
              "                                                    [key], {});\n",
              "        if (!dataTable) return;\n",
              "\n",
              "        const docLinkHtml = 'Like what you see? Visit the ' +\n",
              "          '<a target=\"_blank\" href=https://colab.research.google.com/notebooks/data_table.ipynb>data table notebook</a>'\n",
              "          + ' to learn more about interactive tables.';\n",
              "        element.innerHTML = '';\n",
              "        dataTable['output_type'] = 'display_data';\n",
              "        await google.colab.output.renderOutput(dataTable, element);\n",
              "        const docLink = document.createElement('div');\n",
              "        docLink.innerHTML = docLinkHtml;\n",
              "        element.appendChild(docLink);\n",
              "      }\n",
              "    </script>\n",
              "  </div>\n",
              "\n",
              "\n",
              "<div id=\"df-2d460c16-aedf-407f-ad08-06f3114874ba\">\n",
              "  <button class=\"colab-df-quickchart\" onclick=\"quickchart('df-2d460c16-aedf-407f-ad08-06f3114874ba')\"\n",
              "            title=\"Suggest charts\"\n",
              "            style=\"display:none;\">\n",
              "\n",
              "<svg xmlns=\"http://www.w3.org/2000/svg\" height=\"24px\"viewBox=\"0 0 24 24\"\n",
              "     width=\"24px\">\n",
              "    <g>\n",
              "        <path d=\"M19 3H5c-1.1 0-2 .9-2 2v14c0 1.1.9 2 2 2h14c1.1 0 2-.9 2-2V5c0-1.1-.9-2-2-2zM9 17H7v-7h2v7zm4 0h-2V7h2v10zm4 0h-2v-4h2v4z\"/>\n",
              "    </g>\n",
              "</svg>\n",
              "  </button>\n",
              "\n",
              "<style>\n",
              "  .colab-df-quickchart {\n",
              "      --bg-color: #E8F0FE;\n",
              "      --fill-color: #1967D2;\n",
              "      --hover-bg-color: #E2EBFA;\n",
              "      --hover-fill-color: #174EA6;\n",
              "      --disabled-fill-color: #AAA;\n",
              "      --disabled-bg-color: #DDD;\n",
              "  }\n",
              "\n",
              "  [theme=dark] .colab-df-quickchart {\n",
              "      --bg-color: #3B4455;\n",
              "      --fill-color: #D2E3FC;\n",
              "      --hover-bg-color: #434B5C;\n",
              "      --hover-fill-color: #FFFFFF;\n",
              "      --disabled-bg-color: #3B4455;\n",
              "      --disabled-fill-color: #666;\n",
              "  }\n",
              "\n",
              "  .colab-df-quickchart {\n",
              "    background-color: var(--bg-color);\n",
              "    border: none;\n",
              "    border-radius: 50%;\n",
              "    cursor: pointer;\n",
              "    display: none;\n",
              "    fill: var(--fill-color);\n",
              "    height: 32px;\n",
              "    padding: 0;\n",
              "    width: 32px;\n",
              "  }\n",
              "\n",
              "  .colab-df-quickchart:hover {\n",
              "    background-color: var(--hover-bg-color);\n",
              "    box-shadow: 0 1px 2px rgba(60, 64, 67, 0.3), 0 1px 3px 1px rgba(60, 64, 67, 0.15);\n",
              "    fill: var(--button-hover-fill-color);\n",
              "  }\n",
              "\n",
              "  .colab-df-quickchart-complete:disabled,\n",
              "  .colab-df-quickchart-complete:disabled:hover {\n",
              "    background-color: var(--disabled-bg-color);\n",
              "    fill: var(--disabled-fill-color);\n",
              "    box-shadow: none;\n",
              "  }\n",
              "\n",
              "  .colab-df-spinner {\n",
              "    border: 2px solid var(--fill-color);\n",
              "    border-color: transparent;\n",
              "    border-bottom-color: var(--fill-color);\n",
              "    animation:\n",
              "      spin 1s steps(1) infinite;\n",
              "  }\n",
              "\n",
              "  @keyframes spin {\n",
              "    0% {\n",
              "      border-color: transparent;\n",
              "      border-bottom-color: var(--fill-color);\n",
              "      border-left-color: var(--fill-color);\n",
              "    }\n",
              "    20% {\n",
              "      border-color: transparent;\n",
              "      border-left-color: var(--fill-color);\n",
              "      border-top-color: var(--fill-color);\n",
              "    }\n",
              "    30% {\n",
              "      border-color: transparent;\n",
              "      border-left-color: var(--fill-color);\n",
              "      border-top-color: var(--fill-color);\n",
              "      border-right-color: var(--fill-color);\n",
              "    }\n",
              "    40% {\n",
              "      border-color: transparent;\n",
              "      border-right-color: var(--fill-color);\n",
              "      border-top-color: var(--fill-color);\n",
              "    }\n",
              "    60% {\n",
              "      border-color: transparent;\n",
              "      border-right-color: var(--fill-color);\n",
              "    }\n",
              "    80% {\n",
              "      border-color: transparent;\n",
              "      border-right-color: var(--fill-color);\n",
              "      border-bottom-color: var(--fill-color);\n",
              "    }\n",
              "    90% {\n",
              "      border-color: transparent;\n",
              "      border-bottom-color: var(--fill-color);\n",
              "    }\n",
              "  }\n",
              "</style>\n",
              "\n",
              "  <script>\n",
              "    async function quickchart(key) {\n",
              "      const quickchartButtonEl =\n",
              "        document.querySelector('#' + key + ' button');\n",
              "      quickchartButtonEl.disabled = true;  // To prevent multiple clicks.\n",
              "      quickchartButtonEl.classList.add('colab-df-spinner');\n",
              "      try {\n",
              "        const charts = await google.colab.kernel.invokeFunction(\n",
              "            'suggestCharts', [key], {});\n",
              "      } catch (error) {\n",
              "        console.error('Error during call to suggestCharts:', error);\n",
              "      }\n",
              "      quickchartButtonEl.classList.remove('colab-df-spinner');\n",
              "      quickchartButtonEl.classList.add('colab-df-quickchart-complete');\n",
              "    }\n",
              "    (() => {\n",
              "      let quickchartButtonEl =\n",
              "        document.querySelector('#df-2d460c16-aedf-407f-ad08-06f3114874ba button');\n",
              "      quickchartButtonEl.style.display =\n",
              "        google.colab.kernel.accessAllowed ? 'block' : 'none';\n",
              "    })();\n",
              "  </script>\n",
              "</div>\n",
              "\n",
              "    </div>\n",
              "  </div>\n"
            ]
          },
          "metadata": {},
          "execution_count": 102
        }
      ]
    },
    {
      "cell_type": "code",
      "source": [
        "# Find the best accuracy for each sampling technique\n",
        "best_accuracies = final_table.max(axis=1)\n",
        "\n",
        "# Create a new DataFrame to store the results\n",
        "best_results = pd.DataFrame({'Sampling Technique': best_accuracies.index, 'Accuracy': best_accuracies.values})\n",
        "\n",
        "# Find the corresponding best model for each sampling technique\n",
        "best_models = []\n",
        "for index, row in best_results.iterrows():\n",
        "    sampling_technique = row['Sampling Technique']\n",
        "    best_accuracy = row['Accuracy']\n",
        "    best_model = final_table.loc[sampling_technique][final_table.loc[sampling_technique] == best_accuracy].index[0]\n",
        "    best_models.append(best_model)\n",
        "\n",
        "# Add the 'Best Model' column to the results DataFrame\n",
        "best_results['Best Model'] = best_models\n",
        "\n",
        "# Display the final results\n",
        "print(best_results)\n"
      ],
      "metadata": {
        "colab": {
          "base_uri": "https://localhost:8080/"
        },
        "id": "iWbEHQjL1KBa",
        "outputId": "f82dad7d-f280-4000-b672-722289e855b4"
      },
      "execution_count": 111,
      "outputs": [
        {
          "output_type": "stream",
          "name": "stdout",
          "text": [
            "   Sampling Technique    Accuracy     Best Model\n",
            "0                   0   99.350649  Random Forest\n",
            "1                   1   98.360656  Random Forest\n",
            "2                   2  100.000000  Random Forest\n",
            "3                   3   99.795082  Random Forest\n",
            "4                   4   99.590164  Random Forest\n"
          ]
        }
      ]
    }
  ]
}